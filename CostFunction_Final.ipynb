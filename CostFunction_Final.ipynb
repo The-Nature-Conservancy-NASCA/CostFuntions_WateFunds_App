{
 "cells": [
  {
   "cell_type": "markdown",
   "metadata": {},
   "source": [
    "# Funciones de Costo"
   ]
  },
  {
   "cell_type": "code",
   "execution_count": 1,
   "metadata": {},
   "outputs": [],
   "source": [
    "# Library\n",
    "import numpy as np"
   ]
  },
  {
   "cell_type": "markdown",
   "metadata": {},
   "source": [
    "## Funciones de costo para los procesos del sistema de captación y distribución de agua potable \n",
    "\n",
    "Todas las variables que se encuentran asociadas a las funciones de costo para los procesos del sistema de captación y distribución de agua potable, corresponden a las concentraciones, cargas y caudales de los elementos predecesores al elemento analizado.\n",
    "\n",
    "\n",
    "**Nomenclatura de las variables**\n",
    "\n",
    "![Sin titulo](FIGURES/Nomenclatura.PNG)\n",
    "\n",
    "__________________________________________________\n",
    "\n",
    "| variable | unidad | nombre de varible |\n",
    "|--|--|--|\n",
    "|Q\t| m3/año | Caudal que entra al elemento |\n",
    "| Wsed | Ton/año | Carga sedimentos que entra al elemento |\n",
    "| WN | Kg/año | Carga nitrógeno que entra al elemento |\n",
    "| WP | Kg/año |\tCarga fósforo que entra al elemento |\n",
    "| Csed | mg/l | Concentración de sedimentos que entra al elemento |\n",
    "| CN | mg/l | Concentración de nitrógeno que entra al elemento |\n",
    "| CP | mg/l | Concentración de fósforo que entra al elemento |\n",
    "| Wsed_r | Ton/año | Carga sedimentos que retiene el elemento |\n",
    "| WN_r | Kg/año | Carga nitrógeno que retiene el elemento |\n",
    "| WP_r | Kg/año |\tCarga fósforo que retiene el elemento |\n",
    "| Csed_r | mg/l | Concentración de sedimentos que retiene el elemento |\n",
    "| CN_r | mg/l | Concentración de nitrógeno que retiene el elemento |\n",
    "| CP_r | mg/l | Concentración de fósforo que retiene el elemento |"
   ]
  },
  {
   "cell_type": "markdown",
   "metadata": {},
   "source": [
    "### Embalse\n",
    "\n",
    "![Sin titulo](FIGURES/SCD/Fig_2.PNG)"
   ]
  },
  {
   "cell_type": "code",
   "execution_count": 2,
   "metadata": {},
   "outputs": [],
   "source": [
    "# Retiro de buchon\n",
    "def Fun_E_RetiroBuchon (WP_r,WN_r):\n",
    "    Tmp_1 = 0.8515*WP_r*((1E3)/31536)\n",
    "    Tmp_2 = 0.0532*WN_r*((1E3)/31536)\n",
    "    \n",
    "    O_M = min([Tmp1,Tmp2])\n",
    "    return O_M\n",
    "\n",
    "# Dragado\n",
    "def Fun_E_Dragado(Wsed_r):\n",
    "    Factor = ((1E6)/31536)\n",
    "    O_M = ((-1.075E-6)*((0.315*Wsed_r*Factor)**2)) + (9.675*(0.315*Wsed_r*Factor))\n",
    "    return O_M"
   ]
  },
  {
   "cell_type": "markdown",
   "metadata": {},
   "source": [
    "### Reservorio de Agua Cruda\n",
    "\n",
    "![Sin titulo](FIGURES/SCD/Fig_2.PNG)"
   ]
  },
  {
   "cell_type": "code",
   "execution_count": 3,
   "metadata": {},
   "outputs": [],
   "source": [
    "# Retiro de buchon\n",
    "def Fun_RAC_RetiroBuchon (WP_r,WN_r):\n",
    "    Tmp_1 = 0.8515*WP_r*((1E3)/31536)\n",
    "    Tmp_2 = 0.0532*WN_r*((1E3)/31536)\n",
    "    \n",
    "    O_M = min([Tmp1,Tmp2])\n",
    "    return O_M\n",
    "\n",
    "def Fun_RAC_Dragado(Wsed_r):\n",
    "    Factor = ((1E6)/31536)\n",
    "    O_M = ((-5.064E-4)*((0.315*Wsed_r*Factor)**2)) + (126.6*(0.315*Wsed_r*Factor))\n",
    "    return O_M"
   ]
  },
  {
   "cell_type": "markdown",
   "metadata": {},
   "source": [
    "### Bombeo\n",
    "\n",
    "![Sin titulo](FIGURES/SCD/Fig_3.png)"
   ]
  },
  {
   "cell_type": "code",
   "execution_count": 4,
   "metadata": {},
   "outputs": [],
   "source": [
    "def Fun_B(Q, Csed,CN):\n",
    "    Factor_Elasticidad = 1 + (0.24*((Csed - 56)/56)) + (0.06*((CN - 20)/20))\n",
    "    O_M = ((11126.6*Q) + 30939.7)*Factor_Elasticidad\n",
    "    return O_M"
   ]
  },
  {
   "cell_type": "markdown",
   "metadata": {},
   "source": [
    "### Bocatoma de Fondo"
   ]
  },
  {
   "cell_type": "markdown",
   "metadata": {},
   "source": [
    "* **Bocatoma de Fondo**\n",
    "\n",
    "![Sin titulo](FIGURES/SCD/Fig_4.1.png)"
   ]
  },
  {
   "cell_type": "code",
   "execution_count": 5,
   "metadata": {},
   "outputs": [],
   "source": [
    "def Fun_BO(Q, Csed, CN):\n",
    "    Factor_Elasticidad = 1 + (0.24*((Csed - 56)/56)) + (0.06*((CN - 20)/20))\n",
    "    O_M = (4.1181*(Q**(-0.344)))*Factor_Elasticidad\n",
    "    return O_M"
   ]
  },
  {
   "cell_type": "markdown",
   "metadata": {},
   "source": [
    "* **Bocatoma Lateral**\n",
    "\n",
    "![Sin titulo](FIGURES/SCD/Fig_4.2.png)"
   ]
  },
  {
   "cell_type": "code",
   "execution_count": 6,
   "metadata": {},
   "outputs": [],
   "source": [
    "def Fun_BO(Q, Csed, CN):\n",
    "    Factor_Elasticidad = 1 + (0.24*((Csed - 56)/56)) + (0.06*((CN - 20)/20))\n",
    "    O_M = ((381.44*Q) + 46465.2)*Factor_Elasticidad\n",
    "    return O_M"
   ]
  },
  {
   "cell_type": "markdown",
   "metadata": {},
   "source": [
    "* **Bocatoma Flotante**\n",
    "\n",
    "![Sin titulo](FIGURES/SCD/Fig_4.3.png)"
   ]
  },
  {
   "cell_type": "code",
   "execution_count": 7,
   "metadata": {},
   "outputs": [],
   "source": [
    "def Fun_BO(Q,Csed, CN):\n",
    "    Factor_Elasticidad = 1 + (0.24*((Csed - 56)/56)) + (0.06*((CN - 20)/20))\n",
    "    O_M = ((381.44*Q) + 46465.2)\n",
    "    return O_M"
   ]
  },
  {
   "cell_type": "markdown",
   "metadata": {},
   "source": [
    "### Desarenador\n",
    "\n",
    "![Sin titulo](FIGURES/SCD/Fig_5.png)"
   ]
  },
  {
   "cell_type": "code",
   "execution_count": 8,
   "metadata": {},
   "outputs": [],
   "source": [
    "def Fun_D(Q,Csed, CN):\n",
    "    Factor_Elasticidad = 1 + (0.24*((Csed - 56)/56)) + (0.06*((CN - 20)/20))\n",
    "    O_M = ((16.498*Q) + 10264)*Factor_Elasticidad\n",
    "    return O_M"
   ]
  },
  {
   "cell_type": "markdown",
   "metadata": {},
   "source": [
    "### Cámara de Quiebre\n",
    "\n",
    "![Sin titulo](FIGURES/SCD/Fig_4.3.png)"
   ]
  },
  {
   "cell_type": "code",
   "execution_count": 9,
   "metadata": {},
   "outputs": [],
   "source": [
    "def Fun_CQ(Q, Csed, CN):\n",
    "    Factor_Elasticidad = 1 + (0.24*((Csed - 56)/56)) + (0.06*((CN - 20)/20))\n",
    "    O_M = ((164.98*Q) + 10264)*Factor_Elasticidad\n",
    "    return O_M"
   ]
  },
  {
   "cell_type": "markdown",
   "metadata": {},
   "source": [
    "### Tubería\n",
    "\n",
    "![Sin titulo](FIGURES/SCD/Fig_7.png)"
   ]
  },
  {
   "cell_type": "code",
   "execution_count": 10,
   "metadata": {},
   "outputs": [],
   "source": [
    "def Fun_T(Q, Csed, CN):\n",
    "    Factor_Elasticidad = 1 + (0.24*((Csed - 56)/56)) + (0.06*((CN - 20)/20))\n",
    "    O_M = (0.01861*((0.763*Q)+(8.402*sqrt(Q))))*Factor_Elasticidad\n",
    "    return O_M"
   ]
  },
  {
   "cell_type": "markdown",
   "metadata": {},
   "source": [
    "### Canal \n",
    "\n",
    "![Sin titulo](FIGURES/SCD/Fig_8.png)"
   ]
  },
  {
   "cell_type": "code",
   "execution_count": 11,
   "metadata": {},
   "outputs": [],
   "source": [
    "def Fun_C(Wsed):\n",
    "    O_M = 15.43*Wsed*((1E6)/31536)\n",
    "    return O_M"
   ]
  },
  {
   "cell_type": "markdown",
   "metadata": {},
   "source": [
    "## Funciones de costo para PTAP"
   ]
  },
  {
   "cell_type": "markdown",
   "metadata": {},
   "source": [
    "### Mezcla Rápida"
   ]
  },
  {
   "cell_type": "markdown",
   "metadata": {},
   "source": [
    "* **Mezcla Mecanica**\n",
    "\n",
    "![Sin titulo](FIGURES/PTAP/Fig_1.PNG)"
   ]
  },
  {
   "cell_type": "code",
   "execution_count": 12,
   "metadata": {},
   "outputs": [],
   "source": [
    "def Fun_MR(Q, Csed, CN):\n",
    "    Factor_Elasticidad = 1 + (0.24*((Csed - 56)/56)) + (0.06*((CN - 20)/20))\n",
    "    O_M = ((4.4E-8)*(Q**3)+(0.00111*(Q**2))+(3.756*Q)+29338)*Factor_Elasticidad\n",
    "    return O_M"
   ]
  },
  {
   "cell_type": "markdown",
   "metadata": {},
   "source": [
    "### Dosificación Química"
   ]
  },
  {
   "cell_type": "markdown",
   "metadata": {},
   "source": [
    "* **Sulfato de Aluminio Líquido**\n",
    "\n",
    "![Sin titulo](FIGURES/PTAP/Fig_2.1.PNG)"
   ]
  },
  {
   "cell_type": "code",
   "execution_count": 13,
   "metadata": {},
   "outputs": [],
   "source": [
    "def Fun_DQ(Q, Csed, CN):\n",
    "    \n",
    "    # Calidad Alta\n",
    "    if Csed < 4.4:\n",
    "        Factor_Elasticidad = 1 + (0.24*((Csed - 4.4)/4.4)) + (0.06*((CN - 10)/10))\n",
    "        O_M = (686.93*(Q**0.2919))*Factor_Elasticidad\n",
    "\n",
    "    # Calidad Media\n",
    "    elif (Csed > 4.4) and (Csed < 56):\n",
    "        Factor_Elasticidad = 1 + (0.24*((Csed - 56)/56)) + (0.06*((CN - 20)/20))\n",
    "        O_M =(1443.38*(Q**0.2919)) *Factor_Elasticidad\n",
    "    \n",
    "    # Calidad Baja\n",
    "    elif Csed > 56:\n",
    "        Factor_Elasticidad = 1 + (0.24*((Csed - 200)/200)) + (0.06*((CN - 30)/30))\n",
    "        O_M = (2102.09*(Q**0.2919))*Factor_Elasticidad\n",
    "        \n",
    "    return O_M"
   ]
  },
  {
   "cell_type": "markdown",
   "metadata": {},
   "source": [
    "* **Sulfato de Aluminio Granulado**\n",
    "\n",
    "![Sin titulo](FIGURES/PTAP/Fig_2.2.PNG)"
   ]
  },
  {
   "cell_type": "code",
   "execution_count": 14,
   "metadata": {},
   "outputs": [],
   "source": [
    "def Fun_DQ(Q, Csed, CN):\n",
    "    # Calidad Alta\n",
    "    if Csed < 4.4:\n",
    "        Factor_Elasticidad = 1 + (0.24*((Csed - 4.4)/4.4)) + (0.06*((CN - 10)/10))\n",
    "        O_M = (((3.73E-8)*(Q**2))+(0.4984*Q)+17944)*Factor_Elasticidad\n",
    "        return O_M\n",
    "\n",
    "    # Calidad Media\n",
    "    elif (Csed > 4.4) and (Csed < 56):    \n",
    "        Factor_Elasticidad = 1 + (0.24*((Csed - 56)/56)) + (0.06*((CN - 20)/20))\n",
    "        O_M = (((6.04E-6)*(Q**2))+(6.411*Q)+17944)*Factor_Elasticidad\n",
    "        return O_M\n",
    "\n",
    "    # Calidad Baja\n",
    "    elif Csed > 56:\n",
    "        Factor_Elasticidad = 1 + (0.24*((Csed - 200)/200)) + (0.06*((CN - 30)/30))\n",
    "        O_M = (((7.934E-5)*(Q**2))+(23.242*Q)+17944)*Factor_Elasticidad\n",
    "    \n",
    "    return O_M"
   ]
  },
  {
   "cell_type": "markdown",
   "metadata": {},
   "source": [
    "* **Sulfato Férrico**\n",
    "\n",
    "![Sin titulo](FIGURES/PTAP/Fig_2.3.PNG)"
   ]
  },
  {
   "cell_type": "code",
   "execution_count": 15,
   "metadata": {},
   "outputs": [],
   "source": [
    "def Fun_DQ(Q, Csed, CN):\n",
    "    # Calidad Alta\n",
    "    if Csed < 4.4:\n",
    "        Factor_Elasticidad = 1 + (0.24*((Csed - 4.4)/4.4)) + (0.06*((CN - 10)/10))\n",
    "        O_M = ((0.396*Q)+17239)*Factor_Elasticidad\n",
    "        return O_M\n",
    "\n",
    "    # Calidad Media\n",
    "    elif (Csed > 4.4) and (Csed < 56):\n",
    "        Factor_Elasticidad = 1 + (0.24*((Csed - 56)/56)) + (0.06*((CN - 20)/20))\n",
    "        O_M = ((5.038*Q)+17239)*Factor_Elasticidad\n",
    "        return O_M\n",
    "\n",
    "    # Calidad Baja\n",
    "    elif Csed > 56:\n",
    "        Factor_Elasticidad = 1 + (0.24*((Csed - 200)/200)) + (0.06*((CN - 30)/30))\n",
    "        O_M = ((18.264*Q)+17239)*Factor_Elasticidad\n",
    "    \n",
    "    return O_M"
   ]
  },
  {
   "cell_type": "markdown",
   "metadata": {},
   "source": [
    "* **Polímero**\n",
    "\n",
    "![Sin titulo](FIGURES/PTAP/Fig_2.4.PNG)"
   ]
  },
  {
   "cell_type": "code",
   "execution_count": 16,
   "metadata": {},
   "outputs": [],
   "source": [
    "def Fun_DQ(Q, Csed, CN):\n",
    "    # Calidad Alta\n",
    "    if Csed < 4.4:\n",
    "        Factor_Elasticidad = 1 + (0.24*((Csed - 4.4)/4.4)) + (0.06*((CN - 10)/10))\n",
    "        O_M = (((8.581E-6)*(Q**2))+(0.2*Q)+15648)*Factor_Elasticidad\n",
    "        return O_M\n",
    "\n",
    "    # Calidad Media\n",
    "    elif (Csed > 4.4) and (Csed < 56):\n",
    "        Factor_Elasticidad = 1 + (0.24*((Csed - 56)/56)) + (0.06*((CN - 20)/20))\n",
    "        O_M = (((7.723E-5)*(Q**2))+(0.6*Q)+15648)*Factor_Elasticidad\n",
    "        return O_M\n",
    "\n",
    "    # Calidad Baja\n",
    "    elif Csed > 56:\n",
    "        Factor_Elasticidad = 1 + (0.24*((Csed - 200)/200)) + (0.06*((CN - 30)/30))\n",
    "        O_M = (((2.14E-4)*(Q**2))+Q+15648)*Factor_Elasticidad\n",
    "    \n",
    "    return O_M"
   ]
  },
  {
   "cell_type": "markdown",
   "metadata": {},
   "source": [
    "### Mezcla Lenta"
   ]
  },
  {
   "cell_type": "markdown",
   "metadata": {},
   "source": [
    "* **Floculación Mecánica**\n",
    "\n",
    "![Sin titulo](FIGURES/PTAP/Fig_3.2.PNG)"
   ]
  },
  {
   "cell_type": "code",
   "execution_count": 17,
   "metadata": {},
   "outputs": [],
   "source": [
    "def Fun_ML(Q, Csed, CN):\n",
    "    Factor_Elasticidad = 1 + (0.24*((Csed - 56)/56)) + (0.06*((CN - 20)/20))\n",
    "    O_M = (((2.25E74)*(Q**3))-(4.44E-6*(Q**2))+(41.27*Q)+8625)*Factor_Elasticidad\n",
    "    return O_M"
   ]
  },
  {
   "cell_type": "markdown",
   "metadata": {},
   "source": [
    "### Sedimentación"
   ]
  },
  {
   "cell_type": "markdown",
   "metadata": {},
   "source": [
    "* **Sedimentación convencional**\n",
    "\n",
    "![Sin titulo](FIGURES/PTAP/Fig_4.1.PNG)"
   ]
  },
  {
   "cell_type": "code",
   "execution_count": 18,
   "metadata": {},
   "outputs": [],
   "source": [
    "def Fun_S(Q, Csed, CN):\n",
    "    Factor_Elasticidad = 1 + (0.24*((Csed - 56)/56)) + (0.06*((CN - 20)/20))\n",
    "    O_M = ((164.98*Q)+10264)*Factor_Elasticidad\n",
    "    return O_M"
   ]
  },
  {
   "cell_type": "markdown",
   "metadata": {},
   "source": [
    "* **Sedimentación de alta tasa (1.2 m)**\n",
    "\n",
    "![Sin titulo](FIGURES/PTAP/Fig_4.2.PNG)"
   ]
  },
  {
   "cell_type": "code",
   "execution_count": 19,
   "metadata": {},
   "outputs": [],
   "source": [
    "def Fun_S(Q, Csed, CN):\n",
    "    Factor_Elasticidad = 1 + (0.24*((Csed - 56)/56)) + (0.06*((CN - 20)/20))\n",
    "    O_M = ((-0.002199*(Q**2))+(24.227*Q)+31272)*Factor_Elasticidad\n",
    "    return O_M"
   ]
  },
  {
   "cell_type": "markdown",
   "metadata": {},
   "source": [
    "* **Decantación con unidades de manto de lodos**\n",
    "\n",
    "![Sin titulo](FIGURES/PTAP/Fig_4.3.PNG)"
   ]
  },
  {
   "cell_type": "code",
   "execution_count": 20,
   "metadata": {},
   "outputs": [],
   "source": [
    "def Fun_S(Q, Csed, CN):\n",
    "    Factor_Elasticidad = 1 + (0.24*((Csed - 56)/56)) + (0.06*((CN - 20)/20))\n",
    "    O_M = ((-0.002199*(Q**2))+(24.227*Q)+31272)*Factor_Elasticidad\n",
    "    return O_M"
   ]
  },
  {
   "cell_type": "markdown",
   "metadata": {},
   "source": [
    "### Filtración"
   ]
  },
  {
   "cell_type": "markdown",
   "metadata": {},
   "source": [
    "* **Filtración rápida con lecho mixto**\n",
    "\n",
    "![Sin titulo](FIGURES/PTAP/Fig_5.1.PNG)"
   ]
  },
  {
   "cell_type": "code",
   "execution_count": 21,
   "metadata": {},
   "outputs": [],
   "source": [
    "def Fun_F(Q, Csed, CN):\n",
    "    Factor_Elasticidad = 1 + (0.24*((Csed - 56)/56)) + (0.06*((CN - 20)/20))\n",
    "    O_M = (((1.55E-11)*(Q**3))-((2.52E-6)*(Q**2))+(2.599*Q)+86719)*Factor_Elasticidad\n",
    "    return O_M"
   ]
  },
  {
   "cell_type": "markdown",
   "metadata": {},
   "source": [
    "* **Filtración rápida con lecho simple**\n",
    "\n",
    "![Sin titulo](FIGURES/PTAP/Fig_5.2.PNG)"
   ]
  },
  {
   "cell_type": "code",
   "execution_count": 22,
   "metadata": {},
   "outputs": [],
   "source": [
    "def Fun_F(Q, Csed, CN):\n",
    "    Factor_Elasticidad = 1 + (0.24*((Csed - 56)/56)) + (0.06*((CN - 20)/20))\n",
    "    O_M = (((1.55E-11)*(Q**3))-((2.52E-6)*(Q**2))+(2.599*Q)+86719)*Factor_Elasticidad\n",
    "    return O_M"
   ]
  },
  {
   "cell_type": "markdown",
   "metadata": {},
   "source": [
    "* **Filtración lenta con lecho simple**\n",
    "\n",
    "![Sin titulo](FIGURES/PTAP/Fig_5.3.PNG)"
   ]
  },
  {
   "cell_type": "code",
   "execution_count": 23,
   "metadata": {},
   "outputs": [],
   "source": [
    "def Fun_F(Q, Csed, CN):\n",
    "    Factor_Elasticidad = 1 + (0.24*((Csed - 56)/56)) + (0.06*((CN - 20)/20))\n",
    "    O_M = (((1.55E-11)*(Q**3))-((2.52E-6)*(Q**2))+(2.599*Q)+86719)*Factor_Elasticidad\n",
    "    return O_M"
   ]
  },
  {
   "cell_type": "markdown",
   "metadata": {},
   "source": [
    "* **Lavado por agua-aire**"
   ]
  },
  {
   "cell_type": "code",
   "execution_count": 24,
   "metadata": {
    "scrolled": true
   },
   "outputs": [],
   "source": [
    "def Fun_F(Q, Csed, CN):\n",
    "    Factor_Elasticidad = 1 + (0.24*((Csed - 56)/56)) + (0.06*((CN - 20)/20))\n",
    "    O_M = (((6.94E-8)*(Q**3))-(0.00176*(Q**2))+(17.023*Q)+14300)*Factor_Elasticidad\n",
    "    return O_M"
   ]
  },
  {
   "cell_type": "markdown",
   "metadata": {},
   "source": [
    "* **Lavado por bombeo**"
   ]
  },
  {
   "cell_type": "code",
   "execution_count": 25,
   "metadata": {},
   "outputs": [],
   "source": [
    "def Fun_F(Q, Csed, CN):\n",
    "    Factor_Elasticidad = 1 + (0.24*((Csed - 56)/56)) + (0.06*((CN - 20)/20))\n",
    "    O_M = (((7.33E-8)*(Q**3))-(0.00495*(Q**2))+(126.17*Q)+14300)*Factor_Elasticidad\n",
    "    return O_M"
   ]
  },
  {
   "cell_type": "markdown",
   "metadata": {},
   "source": [
    "### Filtración por membranas"
   ]
  },
  {
   "cell_type": "markdown",
   "metadata": {},
   "source": [
    "* **Osmosis inversa**\n",
    "\n",
    "![Sin titulo](FIGURES/PTAP/Fig_9.1.PNG)"
   ]
  },
  {
   "cell_type": "code",
   "execution_count": 26,
   "metadata": {},
   "outputs": [],
   "source": [
    "def Fun_FM4(Q, Csed, CN):\n",
    "    Factor_Elasticidad = 1 + (0.24*((Csed - 56)/56)) + (0.06*((CN - 20)/20))\n",
    "    O_M = ((11582.2*Q)+272885)*Factor_Elasticidad\n",
    "    return O_M"
   ]
  },
  {
   "cell_type": "markdown",
   "metadata": {},
   "source": [
    "* **Nanofiltración**\n",
    "\n",
    "![Sin titulo](FIGURES/PTAP/Fig_8.1.PNG)"
   ]
  },
  {
   "cell_type": "code",
   "execution_count": 27,
   "metadata": {},
   "outputs": [],
   "source": [
    "def Fun_FM5(Q, Csed, CN):\n",
    "    Factor_Elasticidad = 1 + (0.24*((Csed - 56)/56)) + (0.06*((CN - 20)/20))\n",
    "    O_M = (2.404*10**((1.828*(np.log(86.4*Q))**0.598)+1.876))*Factor_Elasticidad\n",
    "    return O_M"
   ]
  },
  {
   "cell_type": "markdown",
   "metadata": {},
   "source": [
    "* **Ultrafiltración**\n",
    "\n",
    "![Sin titulo](FIGURES/PTAP/Fig_7.1.PNG)"
   ]
  },
  {
   "cell_type": "code",
   "execution_count": 28,
   "metadata": {},
   "outputs": [],
   "source": [
    "def Fun_FM2(Q, Csed, CN):\n",
    "    Factor_Elasticidad = 1 + (0.24*((Csed - 56)/56)) + (0.06*((CN - 20)/20))\n",
    "    O_M = (1.202*10**((1.828*(np.log(86.4*Q))**0.598)+1.876))*Factor_Elasticidad\n",
    "    return O_M"
   ]
  },
  {
   "cell_type": "markdown",
   "metadata": {},
   "source": [
    "* **Microfiltración**\n",
    "\n",
    "![Sin titulo](FIGURES/PTAP/Fig_6.1.PNG)"
   ]
  },
  {
   "cell_type": "code",
   "execution_count": 29,
   "metadata": {},
   "outputs": [],
   "source": [
    "def Fun_FM1(Q, Csed, CN):\n",
    "    Factor_Elasticidad = 1 + (0.24*((Csed - 56)/56)) + (0.06*((CN - 20)/20))\n",
    "    O_M = (1.202*10**((1.828*(np.log(86.4*Q))**0.598)+1.876))*Factor_Elasticidad\n",
    "    return O_M"
   ]
  },
  {
   "cell_type": "markdown",
   "metadata": {},
   "source": [
    "### Intercambio Iónico\n",
    "\n",
    "![Sin titulo](FIGURES/PTAP/Fig_10.1.PNG)"
   ]
  },
  {
   "cell_type": "code",
   "execution_count": 30,
   "metadata": {},
   "outputs": [],
   "source": [
    "def Fun_IO(Q, Csed, CN):\n",
    "    Factor_Elasticidad = 1 + (0.24*((Csed - 56)/56)) + (0.06*((CN - 20)/20))\n",
    "    O_M = ((-0.4151*(Q**2))+(2527.19*Q)+136307)*Factor_Elasticidad\n",
    "    return O_M"
   ]
  },
  {
   "cell_type": "markdown",
   "metadata": {},
   "source": [
    "### Desinfección"
   ]
  },
  {
   "cell_type": "markdown",
   "metadata": {},
   "source": [
    "* **Cloro gaseoso**\n",
    "\n",
    "![Sin titulo](FIGURES/PTAP/Fig_11.1.PNG)"
   ]
  },
  {
   "cell_type": "code",
   "execution_count": 31,
   "metadata": {},
   "outputs": [],
   "source": [
    "def Fun_DS(Q, Csed, CN):\n",
    "    Factor_Elasticidad = 1 + (0.24*((Csed - 56)/56)) + (0.06*((CN - 20)/20))\n",
    "    O_M = (((1.56E-8)*(Q**3))-(0.0000845*(Q**2))+(23.337*Q)+26482)*Factor_Elasticidad\n",
    "    return O_M"
   ]
  },
  {
   "cell_type": "markdown",
   "metadata": {},
   "source": [
    "* **Cloro in situ**\n",
    "\n",
    "![Sin titulo](FIGURES/PTAP/Fig_11.2.PNG)"
   ]
  },
  {
   "cell_type": "code",
   "execution_count": 32,
   "metadata": {},
   "outputs": [],
   "source": [
    "def Fun_DS(Q, Csed, CN):\n",
    "    Factor_Elasticidad = 1 + (0.24*((Csed - 56)/56)) + (0.06*((CN - 20)/20))\n",
    "    O_M = ((-0.000161*(Q**2))+(50.563*Q)+36680)*Factor_Elasticidad\n",
    "    return O_M"
   ]
  },
  {
   "cell_type": "markdown",
   "metadata": {},
   "source": [
    "### Tratamiento de lodos"
   ]
  },
  {
   "cell_type": "markdown",
   "metadata": {},
   "source": [
    "* **Bombeo de lodo**\n",
    "\n",
    "![Sin titulo](FIGURES/PTAP/Fig_12.1.PNG)"
   ]
  },
  {
   "cell_type": "code",
   "execution_count": 33,
   "metadata": {},
   "outputs": [],
   "source": [
    "def Fun_TL(Wsed):\n",
    "    O_M = ((5E-7*(4.565*Wsed*((1E6)/31536))**3)-(0.0071*(4.565*Wsed*((1E6)/31536))**2)+(54.211*(4.565*Wsed*((1E6)/31536)))+14402)\n",
    "    return O_M"
   ]
  },
  {
   "cell_type": "markdown",
   "metadata": {},
   "source": [
    "* **Lechos de secado**\n",
    "\n",
    "![Sin titulo](FIGURES/PTAP/Fig_12.2.PNG)\n",
    "\n",
    "La carga de sedimentos del tratamiento de lodos por lecho de secado corresponde a la sumatoria de sedimentos que salen de los filtros (Wsed_F) y la de procesos de sedimentación (Wsed_S)"
   ]
  },
  {
   "cell_type": "code",
   "execution_count": 34,
   "metadata": {},
   "outputs": [],
   "source": [
    "def Fun_TL(Wsed_S, Wsed_F):\n",
    "    O_M = (0.8920*(((1.86*Wsed_S)+(0.465*Wsed_F)*((1E6)/31536))**2)+(2334.4*((1.86*Wsed_S)+(0.465*Wsed_F)*((1E6)/31536)))+31482)\n",
    "    return O_M"
   ]
  },
  {
   "cell_type": "markdown",
   "metadata": {},
   "source": [
    "* **Espesador**\n",
    "\n",
    "![Sin titulo](FIGURES/PTAP/Fig_12.3.PNG)"
   ]
  },
  {
   "cell_type": "code",
   "execution_count": 35,
   "metadata": {},
   "outputs": [],
   "source": [
    "def Fun_TL(Wsed):\n",
    "    O_M = (((3.29E-3)*Wsed*((1E6)/31536))+(8.58*(math.sqrt(Wsed*((1E6)/31536))))+5887.3)\n",
    "    return O_M"
   ]
  },
  {
   "cell_type": "markdown",
   "metadata": {},
   "source": [
    "* **Filtros prensa**\n",
    "\n",
    "![Sin titulo](FIGURES/PTAP/Fig_12.4.PNG)"
   ]
  },
  {
   "cell_type": "code",
   "execution_count": 36,
   "metadata": {},
   "outputs": [],
   "source": [
    "def Fun_TL(Wsed):\n",
    "    O_M = ((0.771*(27.39*Wsed*((1E6)/31536))**2)+(2074*(27.39*Wsed*((1E6)/31536)))+61152)\n",
    "    return O_M"
   ]
  },
  {
   "cell_type": "markdown",
   "metadata": {},
   "source": [
    "### Mantenimiento Edificaciones\n",
    "\n",
    "![Sin titulo](FIGURES/PTAP/Fig_13.1.PNG)"
   ]
  },
  {
   "cell_type": "code",
   "execution_count": 37,
   "metadata": {},
   "outputs": [],
   "source": [
    "def Fun_ME(Q, Csed, CN):\n",
    "    Factor_Elasticidad = 1 + (0.24*((Csed - 56)/56)) + (0.06*((CN - 20)/20))\n",
    "    O_M = (31278*(Q**0.4526))*Factor_Elasticidad\n",
    "    return O_M"
   ]
  }
 ],
 "metadata": {
  "kernelspec": {
   "display_name": "Python 3",
   "language": "python",
   "name": "python3"
  },
  "language_info": {
   "codemirror_mode": {
    "name": "ipython",
    "version": 3
   },
   "file_extension": ".py",
   "mimetype": "text/x-python",
   "name": "python",
   "nbconvert_exporter": "python",
   "pygments_lexer": "ipython3",
   "version": "3.8.3"
  }
 },
 "nbformat": 4,
 "nbformat_minor": 4
}
